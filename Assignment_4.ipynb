{
  "nbformat": 4,
  "nbformat_minor": 0,
  "metadata": {
    "colab": {
      "provenance": [],
      "authorship_tag": "ABX9TyP3sJqoy8ZArMWd1QLhimyo",
      "include_colab_link": true
    },
    "kernelspec": {
      "name": "python3",
      "display_name": "Python 3"
    },
    "language_info": {
      "name": "python"
    }
  },
  "cells": [
    {
      "cell_type": "markdown",
      "metadata": {
        "id": "view-in-github",
        "colab_type": "text"
      },
      "source": [
        "<a href=\"https://colab.research.google.com/github/dhanvik23/assignment-4/blob/main/Assignment_4.ipynb\" target=\"_parent\"><img src=\"https://colab.research.google.com/assets/colab-badge.svg\" alt=\"Open In Colab\"/></a>"
      ]
    },
    {
      "cell_type": "code",
      "source": [
        "#Assignment 4.3\n",
        "budget= float(input(\"enter budget for this month\"))\n",
        "\n",
        "keep_going = 4\n",
        "while (keep_going):\n",
        "  expense = float(input(\"enter expense for this month\"))\n",
        "  keep_going = keep_going - 1\n",
        "\n",
        "money= budget-expense\n",
        "print(\"final money\", money)\n"
      ],
      "metadata": {
        "id": "qaHtA6m-C6f0"
      },
      "execution_count": null,
      "outputs": []
    },
    {
      "cell_type": "code",
      "source": [
        "#Assignment 4.4\n",
        "a = 'b'\n",
        "while a == 'b' or a == 'B':\n",
        "    speed = int(input('Enter speed of vehicle: '))\n",
        "    time = int(input('Enter hours driven: '))\n",
        "\n",
        "\n",
        "    if time <= 0 or speed <= 0:\n",
        "        print('Hours and speed must be more than 0')\n",
        "    else:\n",
        "        for t in range(time):\n",
        "            distance = speed * time\n",
        "\n",
        "            print(t + 1,':', distance)\n",
        "            time = time * 2\n",
        "\n",
        "\n",
        "        a = 'c'"
      ],
      "metadata": {
        "colab": {
          "base_uri": "https://localhost:8080/"
        },
        "id": "KylzVvuTNUMY",
        "outputId": "1e43488e-f929-4b94-b74c-62d4a5f806b4"
      },
      "execution_count": 7,
      "outputs": [
        {
          "output_type": "stream",
          "name": "stdout",
          "text": [
            "Enter speed of vehicle: 100\n",
            "Enter hours driven: 3\n",
            "1 : 300\n",
            "2 : 600\n",
            "3 : 1200\n"
          ]
        }
      ]
    },
    {
      "cell_type": "code",
      "source": [
        "#Assignment 4.6\n",
        "celsius = 0\n",
        "while celsius <= 20:\n",
        "  fahrenheit = 95 * celsius + 32\n",
        "  print(celsius, fahrenheit)\n",
        "  celsius = celsius + 1"
      ],
      "metadata": {
        "colab": {
          "base_uri": "https://localhost:8080/"
        },
        "id": "0AeovYI0QwBU",
        "outputId": "0dbeb305-8cb8-40f5-8d98-3a89b172c8ae"
      },
      "execution_count": 4,
      "outputs": [
        {
          "output_type": "stream",
          "name": "stdout",
          "text": [
            "0 32\n",
            "1 127\n",
            "2 222\n",
            "3 317\n",
            "4 412\n",
            "5 507\n",
            "6 602\n",
            "7 697\n",
            "8 792\n",
            "9 887\n",
            "10 982\n",
            "11 1077\n",
            "12 1172\n",
            "13 1267\n",
            "14 1362\n",
            "15 1457\n",
            "16 1552\n",
            "17 1647\n",
            "18 1742\n",
            "19 1837\n",
            "20 1932\n"
          ]
        }
      ]
    }
  ]
}